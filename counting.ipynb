{
 "cells": [
  {
   "cell_type": "code",
   "execution_count": null,
   "metadata": {},
   "outputs": [],
   "source": [
    "import cv2"
   ]
  },
  {
   "cell_type": "code",
   "execution_count": 35,
   "metadata": {},
   "outputs": [
    {
     "data": {
      "text/plain": [
       "189"
      ]
     },
     "execution_count": 35,
     "metadata": {},
     "output_type": "execute_result"
    }
   ],
   "source": [
    "# read labels\n",
    "annotations = {}\n",
    "i = 1\n",
    "\n",
    "while i < 189:\n",
    "    file = open(\"labels/highway_{}.txt\".format(i), 'r')\n",
    "    annotations[i] = []\n",
    "    for line in file:\n",
    "        line = line.strip().split()\n",
    "        l = list(map(float, line[1:]))\n",
    "        l.insert(0, int(line[0]))\n",
    "        annotations[i].append(l)\n",
    "    i += 1"
   ]
  }
 ],
 "metadata": {
  "kernelspec": {
   "display_name": "PyTorch",
   "language": "python",
   "name": "python3"
  },
  "language_info": {
   "name": "python",
   "version": "3.10.9"
  },
  "orig_nbformat": 4,
  "vscode": {
   "interpreter": {
    "hash": "e3a767b38a63c35f8754070680871a279ab9b013403e7788fee648d055516310"
   }
  }
 },
 "nbformat": 4,
 "nbformat_minor": 2
}
