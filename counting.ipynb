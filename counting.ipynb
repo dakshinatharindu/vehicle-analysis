{
 "cells": [
  {
   "cell_type": "code",
   "execution_count": 3,
   "metadata": {},
   "outputs": [],
   "source": [
    "import cv2"
   ]
  },
  {
   "cell_type": "code",
   "execution_count": 65,
   "metadata": {},
   "outputs": [],
   "source": [
    "# constants\n",
    "WIDTH = 1920\n",
    "HEIGHT = 1080\n",
    "REF = 500\n",
    "BOTTOM_REF = 200"
   ]
  },
  {
   "cell_type": "code",
   "execution_count": 5,
   "metadata": {},
   "outputs": [],
   "source": [
    "# read labels\n",
    "annotations = {}\n",
    "i = 1\n",
    "while i < 189:\n",
    "    file = open(\"labels/highway_{}.txt\".format(i), 'r')\n",
    "    annotations[i] = []\n",
    "    for line in file:\n",
    "        line = line.strip().split()\n",
    "        l = list(map(float, line[1:]))\n",
    "        l.insert(0, int(line[0]))\n",
    "        annotations[i].append(l)\n",
    "    i += 1"
   ]
  },
  {
   "cell_type": "code",
   "execution_count": 69,
   "metadata": {},
   "outputs": [],
   "source": [
    "cap = cv2.VideoCapture('highway.mp4')\n",
    "if (cap.isOpened()== False):\n",
    "    print(\"Error opening video file\")\n",
    "\n",
    "n = 1\n",
    "global_min = HEIGHT\n",
    "count = 0\n",
    "frame_array = []\n",
    "while(cap.isOpened()):\n",
    "    ret, frame = cap.read()\n",
    "    if ret == False:\n",
    "        break\n",
    "    \n",
    "    frame_min = HEIGHT\n",
    "    for obj in annotations[n]:\n",
    "        y = int(obj[2]*HEIGHT)\n",
    "        if (y < frame_min and y > REF and y < HEIGHT - BOTTOM_REF):\n",
    "            frame_min = y\n",
    "        if (y < global_min and y > REF and y < HEIGHT - BOTTOM_REF):\n",
    "            count += 1\n",
    "    global_min = frame_min\n",
    "\n",
    "    cv2.line(frame, (0, REF), (WIDTH, REF), (0, 255, 0), 3)\n",
    "    cv2.putText(frame,'Detected Vehicles: ' + str(count),(20, 20),cv2.FONT_HERSHEY_SIMPLEX,0.8,(0, 0xFF, 0),2,cv2.FONT_HERSHEY_COMPLEX_SMALL)\n",
    "    frame_array.append(frame)\n",
    "        \n",
    "    n += 1\n",
    "\n",
    "out = cv2.VideoWriter('./res.mp4', cv2.VideoWriter_fourcc(*'h264'), 30, (1920, 1080))\n",
    "for i in range(len(frame_array)):\n",
    "    cv2.imshow('Frame', frame_array[i])\n",
    "    if cv2.waitKey(25) & 0xFF == ord('q'):\n",
    "        break\n",
    "    out.write(frame_array[i])\n",
    "\n",
    "cap.release()\n",
    "out.release()\n",
    "cv2.destroyAllWindows()"
   ]
  }
 ],
 "metadata": {
  "kernelspec": {
   "display_name": "PyTorch",
   "language": "python",
   "name": "python3"
  },
  "language_info": {
   "codemirror_mode": {
    "name": "ipython",
    "version": 3
   },
   "file_extension": ".py",
   "mimetype": "text/x-python",
   "name": "python",
   "nbconvert_exporter": "python",
   "pygments_lexer": "ipython3",
   "version": "3.10.9"
  },
  "orig_nbformat": 4,
  "vscode": {
   "interpreter": {
    "hash": "e3a767b38a63c35f8754070680871a279ab9b013403e7788fee648d055516310"
   }
  }
 },
 "nbformat": 4,
 "nbformat_minor": 2
}
